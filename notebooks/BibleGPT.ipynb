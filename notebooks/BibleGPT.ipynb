{
 "cells": [
  {
   "cell_type": "code",
   "execution_count": 1,
   "metadata": {},
   "outputs": [],
   "source": [
    "import numpy as np\n",
    "import pandas as pd\n",
    "import random\n",
    "import operator\n",
    "\n",
    "from openai import OpenAI\n",
    "\n",
    "from pathlib import Path\n",
    "\n",
    "from chromadb.utils import embedding_functions\n",
    "from chromadb import PersistentClient\n",
    "\n",
    "from langchain.chains import RetrievalQA\n",
    "from langchain_openai import ChatOpenAI\n",
    "from langchain.embeddings import SentenceTransformerEmbeddings\n",
    "from langchain.vectorstores import Chroma"
   ]
  },
  {
   "cell_type": "code",
   "execution_count": 2,
   "metadata": {},
   "outputs": [],
   "source": [
    "# Set up OpenAI API key if you intend to use it\n",
    "# import os\n",
    "# os.environ[\"OPENAI_API_KEY\"] = YOUR OPENAI API KEY"
   ]
  },
  {
   "cell_type": "code",
   "execution_count": 3,
   "metadata": {},
   "outputs": [],
   "source": [
    "# Get the home directory of the project\n",
    "# If you encounter path issues, set this manually to the repo directory\n",
    "home_dir = Path.cwd().parent\n",
    "data_dir = home_dir / 'data'"
   ]
  },
  {
   "cell_type": "code",
   "execution_count": 4,
   "metadata": {},
   "outputs": [],
   "source": [
    "# A handy function to sample the start, end, and random points in a list or df\n",
    "def sample_df(x):\n",
    "    if len(x) < 9:\n",
    "        return x\n",
    "    rnd_samp = sorted(random.sample(range(3, len(x)-3), 3))\n",
    "    if isinstance(x, list):\n",
    "        # Get the items by index from a list\n",
    "        return operator.itemgetter(*np.r_[0:3,rnd_samp,-3:0])(x)\n",
    "    else:\n",
    "        return x.iloc[np.r_[0:3,rnd_samp,-3:0]]"
   ]
  },
  {
   "cell_type": "code",
   "execution_count": 5,
   "metadata": {},
   "outputs": [],
   "source": [
    "# Load text\n",
    "kjv_path = data_dir / 'kjv.tsv'\n",
    "kjv = pd.read_csv(kjv_path, sep=\"\\t\", names=['ref','text'])\n",
    "\n",
    "# Add the ref into the text\n",
    "kjv['text'] = kjv['ref']+' '+kjv['text']\n",
    "\n",
    "# set book, chapter, verse as ID\n",
    "kjv.set_index('ref', drop=False, inplace=True)\n",
    "kjv.index.name = None\n",
    "\n",
    "# Get book, chapter, and verse for metadata\n",
    "kjv[['book','cv']] = kjv['ref'].str.split(\" \", n=1, expand=True)\n",
    "kjv[['chapter','verse']] = kjv['cv'].str.split(\":\", n=1, expand=True)\n",
    "kjv.drop(['cv','ref'], inplace=True, axis = 1)\n",
    "\n",
    "# Get metadata dict\n",
    "kjv_metadata = kjv[['book', 'chapter', 'verse']].to_dict('records')"
   ]
  },
  {
   "cell_type": "code",
   "execution_count": 6,
   "metadata": {},
   "outputs": [],
   "source": [
    "# Overlap verses in chapters to enhance context\n",
    "# each verse includes the previous and following verses (except for the first and last verse of a chapter)\n",
    "kjv['prev'] = kjv.groupby(['book', 'chapter'])['text'].shift(1, fill_value='')\n",
    "kjv['next'] = kjv.groupby(['book', 'chapter'])['text'].shift(-1, fill_value='')\n",
    "kjv['text'] = kjv['prev'] + ' ' + kjv['text'] + ' ' + kjv['next']\n",
    "kjv.drop(['prev', 'next'], axis=1, inplace=True)"
   ]
  },
  {
   "cell_type": "code",
   "execution_count": 7,
   "metadata": {},
   "outputs": [
    {
     "data": {
      "text/html": [
       "<div>\n",
       "<style scoped>\n",
       "    .dataframe tbody tr th:only-of-type {\n",
       "        vertical-align: middle;\n",
       "    }\n",
       "\n",
       "    .dataframe tbody tr th {\n",
       "        vertical-align: top;\n",
       "    }\n",
       "\n",
       "    .dataframe thead th {\n",
       "        text-align: right;\n",
       "    }\n",
       "</style>\n",
       "<table border=\"1\" class=\"dataframe\">\n",
       "  <thead>\n",
       "    <tr style=\"text-align: right;\">\n",
       "      <th></th>\n",
       "      <th>text</th>\n",
       "      <th>book</th>\n",
       "      <th>chapter</th>\n",
       "      <th>verse</th>\n",
       "    </tr>\n",
       "  </thead>\n",
       "  <tbody>\n",
       "    <tr>\n",
       "      <th>Genesis 1:1</th>\n",
       "      <td>Genesis 1:1 In the beginning God created the ...</td>\n",
       "      <td>Genesis</td>\n",
       "      <td>1</td>\n",
       "      <td>1</td>\n",
       "    </tr>\n",
       "    <tr>\n",
       "      <th>Genesis 1:2</th>\n",
       "      <td>Genesis 1:1 In the beginning God created the h...</td>\n",
       "      <td>Genesis</td>\n",
       "      <td>1</td>\n",
       "      <td>2</td>\n",
       "    </tr>\n",
       "    <tr>\n",
       "      <th>Genesis 1:3</th>\n",
       "      <td>Genesis 1:2 And the earth was without form, an...</td>\n",
       "      <td>Genesis</td>\n",
       "      <td>1</td>\n",
       "      <td>3</td>\n",
       "    </tr>\n",
       "    <tr>\n",
       "      <th>1_Kings 7:27</th>\n",
       "      <td>1_Kings 7:26 And it [was] an hand breadth thic...</td>\n",
       "      <td>1_Kings</td>\n",
       "      <td>7</td>\n",
       "      <td>27</td>\n",
       "    </tr>\n",
       "    <tr>\n",
       "      <th>Isaiah 45:9</th>\n",
       "      <td>Isaiah 45:8 Drop down, ye heavens, from above,...</td>\n",
       "      <td>Isaiah</td>\n",
       "      <td>45</td>\n",
       "      <td>9</td>\n",
       "    </tr>\n",
       "    <tr>\n",
       "      <th>Matthew 19:11</th>\n",
       "      <td>Matthew 19:10 His disciples say unto him, If t...</td>\n",
       "      <td>Matthew</td>\n",
       "      <td>19</td>\n",
       "      <td>11</td>\n",
       "    </tr>\n",
       "    <tr>\n",
       "      <th>Revelation 22:19</th>\n",
       "      <td>Revelation 22:18 For I testify unto every man ...</td>\n",
       "      <td>Revelation</td>\n",
       "      <td>22</td>\n",
       "      <td>19</td>\n",
       "    </tr>\n",
       "    <tr>\n",
       "      <th>Revelation 22:20</th>\n",
       "      <td>Revelation 22:19 And if any man shall take awa...</td>\n",
       "      <td>Revelation</td>\n",
       "      <td>22</td>\n",
       "      <td>20</td>\n",
       "    </tr>\n",
       "    <tr>\n",
       "      <th>Revelation 22:21</th>\n",
       "      <td>Revelation 22:20 He which testifieth these thi...</td>\n",
       "      <td>Revelation</td>\n",
       "      <td>22</td>\n",
       "      <td>21</td>\n",
       "    </tr>\n",
       "  </tbody>\n",
       "</table>\n",
       "</div>"
      ],
      "text/plain": [
       "                                                               text  \\\n",
       "Genesis 1:1        Genesis 1:1 In the beginning God created the ...   \n",
       "Genesis 1:2       Genesis 1:1 In the beginning God created the h...   \n",
       "Genesis 1:3       Genesis 1:2 And the earth was without form, an...   \n",
       "1_Kings 7:27      1_Kings 7:26 And it [was] an hand breadth thic...   \n",
       "Isaiah 45:9       Isaiah 45:8 Drop down, ye heavens, from above,...   \n",
       "Matthew 19:11     Matthew 19:10 His disciples say unto him, If t...   \n",
       "Revelation 22:19  Revelation 22:18 For I testify unto every man ...   \n",
       "Revelation 22:20  Revelation 22:19 And if any man shall take awa...   \n",
       "Revelation 22:21  Revelation 22:20 He which testifieth these thi...   \n",
       "\n",
       "                        book chapter verse  \n",
       "Genesis 1:1          Genesis       1     1  \n",
       "Genesis 1:2          Genesis       1     2  \n",
       "Genesis 1:3          Genesis       1     3  \n",
       "1_Kings 7:27         1_Kings       7    27  \n",
       "Isaiah 45:9           Isaiah      45     9  \n",
       "Matthew 19:11        Matthew      19    11  \n",
       "Revelation 22:19  Revelation      22    19  \n",
       "Revelation 22:20  Revelation      22    20  \n",
       "Revelation 22:21  Revelation      22    21  "
      ]
     },
     "execution_count": 7,
     "metadata": {},
     "output_type": "execute_result"
    }
   ],
   "source": [
    "# Sanity check inside df and dict\n",
    "sample_df(kjv)"
   ]
  },
  {
   "cell_type": "code",
   "execution_count": 8,
   "metadata": {},
   "outputs": [
    {
     "data": {
      "text/plain": [
       "({'book': 'Genesis', 'chapter': '1', 'verse': '1'},\n",
       " {'book': 'Genesis', 'chapter': '1', 'verse': '2'},\n",
       " {'book': 'Genesis', 'chapter': '1', 'verse': '3'},\n",
       " {'book': 'Leviticus', 'chapter': '6', 'verse': '9'},\n",
       " {'book': 'Joshua', 'chapter': '10', 'verse': '8'},\n",
       " {'book': 'Psalm', 'chapter': '38', 'verse': '3'},\n",
       " {'book': 'Revelation', 'chapter': '22', 'verse': '19'},\n",
       " {'book': 'Revelation', 'chapter': '22', 'verse': '20'},\n",
       " {'book': 'Revelation', 'chapter': '22', 'verse': '21'})"
      ]
     },
     "execution_count": 8,
     "metadata": {},
     "output_type": "execute_result"
    }
   ],
   "source": [
    "sample_df(kjv_metadata)"
   ]
  },
  {
   "cell_type": "code",
   "execution_count": 9,
   "metadata": {},
   "outputs": [],
   "source": [
    "# Set chroma path\n",
    "chroma_path = data_dir / 'chroma'\n",
    "\n",
    "# An embedding function to use with native chroma when creating the database and inserting records\n",
    "sentence_transformer_ef = embedding_functions.SentenceTransformerEmbeddingFunction(model_name=\"all-MiniLM-L6-v2\")\n",
    "\n",
    "# The huggingface transformer\n",
    "hf_sentence_transformer = SentenceTransformerEmbeddings(model_name=\"all-MiniLM-L6-v2\")\n",
    "\n",
    "# Instantiate chromadb instance, data is stored on disk.\n",
    "chroma_client = PersistentClient(path=str(chroma_path))\n",
    "\n",
    "# Use this to delete the database if need be\n",
    "chroma_client.delete_collection(name=\"nrsvcv_Bible_v1\")\n",
    "\n",
    "# Create the collection (aka vector database) or if the database already exists, use it. Specify the model that we want to use to do the embedding.\n",
    "collection = chroma_client.get_or_create_collection(name=\"nrsvcv_Bible_v1\", embedding_function=sentence_transformer_ef)"
   ]
  },
  {
   "cell_type": "code",
   "execution_count": 11,
   "metadata": {},
   "outputs": [],
   "source": [
    "# Split up dataframe or array into chunks to load into chroma (max records 5461 at a time)\n",
    "def split_df_array(x, n: int) -> list:\n",
    "    '''\n",
    "    A function to split a dataframe or array into n chunks\n",
    "    This replaces np.array_split, which will be deprecated for dataframes in future versions\n",
    "    '''\n",
    "    chunks = list()\n",
    "    n = int(np.ceil(n))\n",
    "    chunk_size = int(np.ceil(len(x) / n))\n",
    "    for i in range(n):\n",
    "        chunks.append(x[i*chunk_size:(i+1)*chunk_size])\n",
    "    return chunks\n",
    "\n",
    "n_chunks = int(np.ceil(len(kjv)/5400))\n",
    "chunked_kjv = split_df_array(kjv, n_chunks)\n",
    "chunked_kjv_metadata = split_df_array(kjv_metadata, n_chunks)"
   ]
  },
  {
   "cell_type": "code",
   "execution_count": 13,
   "metadata": {},
   "outputs": [
    {
     "name": "stdout",
     "output_type": "stream",
     "text": [
      "Adding chunk: 1 of 6.\n",
      "Adding chunk: 2 of 6.\n",
      "Adding chunk: 3 of 6.\n",
      "Adding chunk: 4 of 6.\n",
      "Adding chunk: 5 of 6.\n",
      "Adding chunk: 6 of 6.\n"
     ]
    }
   ],
   "source": [
    "# Add all the data to the vector database in batches.\n",
    "# ChromaDB automatically converts and stores the text as vector embeddings. This may take a moment (10-15 mins on my very low spec machine with a passable SSD).\n",
    "for chunk in range(int(n_chunks)):\n",
    "    print(f\"Adding chunk: {chunk+1} of {n_chunks}.\")\n",
    "    collection.upsert(\n",
    "        ids=chunked_kjv[chunk].index.to_list(),\n",
    "        documents=chunked_kjv[chunk]['text'].to_list(),\n",
    "        metadatas=chunked_kjv_metadata[chunk],\n",
    "    )"
   ]
  },
  {
   "cell_type": "code",
   "execution_count": 15,
   "metadata": {},
   "outputs": [
    {
     "data": {
      "text/plain": [
       "{'ids': [['Genesis 3:24', 'Genesis 3:23', 'Genesis 3:8']],\n",
       " 'distances': [[0.8362309336662292, 0.8863940834999084, 0.9025758504867554]],\n",
       " 'metadatas': [[{'book': 'Genesis', 'chapter': '3', 'verse': '24'},\n",
       "   {'book': 'Genesis', 'chapter': '3', 'verse': '23'},\n",
       "   {'book': 'Genesis', 'chapter': '3', 'verse': '8'}]],\n",
       " 'embeddings': None,\n",
       " 'documents': [['Genesis 3:23 Therefore the LORD God sent him forth from the garden of Eden, to till the ground from whence he was taken. Genesis 3:24 So he drove out the man; and he placed at the east of the garden of Eden Cherubims, and a flaming sword which turned every way, to keep the way of the tree of life. ',\n",
       "   'Genesis 3:22 And the LORD God said, Behold, the man is become as one of us, to know good and evil: and now, lest he put forth his hand, and take also of the tree of life, and eat, and live for ever: Genesis 3:23 Therefore the LORD God sent him forth from the garden of Eden, to till the ground from whence he was taken. Genesis 3:24 So he drove out the man; and he placed at the east of the garden of Eden Cherubims, and a flaming sword which turned every way, to keep the way of the tree of life.',\n",
       "   'Genesis 3:7 And the eyes of them both were opened, and they knew that they [were] naked; and they sewed fig leaves together, and made themselves aprons. Genesis 3:8 And they heard the voice of the LORD God walking in the garden in the cool of the day: and Adam and his wife hid themselves from the presence of the LORD God amongst the trees of the garden. Genesis 3:9 And the LORD God called unto Adam, and said unto him, Where [art] thou?']],\n",
       " 'uris': None,\n",
       " 'data': None}"
      ]
     },
     "execution_count": 15,
     "metadata": {},
     "output_type": "execute_result"
    }
   ],
   "source": [
    "# Test query the vector database\n",
    "\n",
    "# This is only doing a similarity search, not using ANY LLMs\n",
    "results = collection.query(\n",
    "    query_texts=[\"in the garden of Eden\"],\n",
    "    n_results=3,\n",
    "    include=['documents', 'distances', 'metadatas']\n",
    ")\n",
    "\n",
    "results"
   ]
  },
  {
   "cell_type": "code",
   "execution_count": 16,
   "metadata": {},
   "outputs": [],
   "source": [
    "# Load the chroma client and sentence transformer for use in a Langchain chain\n",
    "chroma_db = Chroma(\n",
    "    client=chroma_client,\n",
    "    embedding_function=hf_sentence_transformer,\n",
    "    collection_name=\"nrsvcv_Bible_v1\")"
   ]
  },
  {
   "cell_type": "code",
   "execution_count": 17,
   "metadata": {},
   "outputs": [],
   "source": [
    "query = \"How old was jesus, citing the book, chapter, and verse\""
   ]
  },
  {
   "cell_type": "code",
   "execution_count": 18,
   "metadata": {},
   "outputs": [
    {
     "data": {
      "text/plain": [
       "[(Document(page_content='Luke 3:23 And Jesus himself began to be about thirty years of age, being (as was supposed) the son of Joseph, which was [the son] of Heli, Luke 3:24 Which was [the son] of Matthat, which was [the son] of Levi, which was [the son] of Melchi, which was [the son] of Janna, which was [the son] of Joseph, Luke 3:25 Which was [the son] of Mattathias, which was [the son] of Amos, which was [the son] of Naum, which was [the son] of Esli, which was [the son] of Nagge,', metadata={'book': 'Luke', 'chapter': '3', 'verse': '24'}),\n",
       "  0.8709121942520142),\n",
       " (Document(page_content='Luke 2:40 And the child grew, and waxed strong in spirit, filled with wisdom: and the grace of God was upon him. Luke 2:41 Now his parents went to Jerusalem every year at the feast of the passover. Luke 2:42 And when he was twelve years old, they went up to Jerusalem after the custom of the feast.', metadata={'book': 'Luke', 'chapter': '2', 'verse': '41'}),\n",
       "  0.8860723972320557),\n",
       " (Document(page_content='Luke 2:42 And when he was twelve years old, they went up to Jerusalem after the custom of the feast. Luke 2:43 And when they had fulfilled the days, as they returned, the child Jesus tarried behind in Jerusalem; and Joseph and his mother knew not [of it]. Luke 2:44 But they, supposing him to have been in the company, went a day’s journey; and they sought him among [their] kinsfolk and acquaintance.', metadata={'book': 'Luke', 'chapter': '2', 'verse': '43'}),\n",
       "  0.9020791053771973),\n",
       " (Document(page_content='Luke 18:31 Then he took [unto him] the twelve, and said unto them, Behold, we go up to Jerusalem, and all things that are written by the prophets concerning the Son of man shall be accomplished. Luke 18:32 For he shall be delivered unto the Gentiles, and shall be mocked, and spitefully entreated, and spitted on: Luke 18:33 And they shall scourge [him], and put him to death: and the third day he shall rise again.', metadata={'book': 'Luke', 'chapter': '18', 'verse': '32'}),\n",
       "  0.9235870838165283)]"
      ]
     },
     "execution_count": 18,
     "metadata": {},
     "output_type": "execute_result"
    }
   ],
   "source": [
    "# Test query, again this only uses vector similarity\n",
    "chroma_db.similarity_search_with_score(query)"
   ]
  },
  {
   "cell_type": "code",
   "execution_count": null,
   "metadata": {},
   "outputs": [],
   "source": [
    "# Load the chatGPT model\n",
    "gpt35_model = ChatOpenAI(\n",
    "    model_name=\"gpt-3.5-turbo-1106\",\n",
    "    temperature=0.8\n",
    ")"
   ]
  },
  {
   "cell_type": "code",
   "execution_count": null,
   "metadata": {},
   "outputs": [],
   "source": [
    "def orig_chatgpt_call(prompt, model=\"gpt-3.5-turbo\"):\n",
    "   \n",
    "   # This will be run every time the function is run, it's only designed as a test as this is not great practice :)\n",
    "   client = OpenAI()\n",
    "\n",
    "   response = client.chat.completions.create(\n",
    "    model=model,\n",
    "    messages=[{\"role\": \"user\", \"content\": prompt}]\n",
    ")\n",
    "\n",
    "   return response.choices[0].message.content\n",
    "\n",
    "\n",
    "def rag_chatgpt_call(prompt, model=\"gpt-3.5-turbo\"):\n",
    "   chain = RetrievalQA.from_chain_type(\n",
    "      llm=gpt35_model,\n",
    "      chain_type=\"stuff\",\n",
    "      retriever=chroma_db.as_retriever()\n",
    "    )\n",
    "   \n",
    "   return chain.invoke(prompt)['result']"
   ]
  },
  {
   "cell_type": "code",
   "execution_count": null,
   "metadata": {},
   "outputs": [
    {
     "data": {
      "text/plain": [
       "'The Bible does not provide a specific age for Jesus at the time of his death. However, according to historical accounts, scholars generally believe that Jesus was crucified around the age of 33.'"
      ]
     },
     "execution_count": 40,
     "metadata": {},
     "output_type": "execute_result"
    }
   ],
   "source": [
    "orig_chatgpt_call(query)"
   ]
  },
  {
   "cell_type": "code",
   "execution_count": null,
   "metadata": {},
   "outputs": [
    {
     "data": {
      "text/plain": [
       "'In Luke 3:23, it is mentioned that Jesus began to be about thirty years of age.'"
      ]
     },
     "execution_count": 47,
     "metadata": {},
     "output_type": "execute_result"
    }
   ],
   "source": [
    "rag_chatgpt_call(query)"
   ]
  }
 ],
 "metadata": {
  "kernelspec": {
   "display_name": "TaxGPT_3.11.5",
   "language": "python",
   "name": "python3"
  },
  "language_info": {
   "codemirror_mode": {
    "name": "ipython",
    "version": 3
   },
   "file_extension": ".py",
   "mimetype": "text/x-python",
   "name": "python",
   "nbconvert_exporter": "python",
   "pygments_lexer": "ipython3",
   "version": "3.11.5"
  }
 },
 "nbformat": 4,
 "nbformat_minor": 2
}
